{
 "cells": [
  {
   "cell_type": "markdown",
   "metadata": {},
   "source": [
    "#   Introdución a redes neuronales con Tensorflow."
   ]
  },
  {
   "cell_type": "markdown",
   "metadata": {},
   "source": [
    "By Cruz Eduardo Muñoz C. para el FliSol 2019"
   ]
  },
  {
   "cell_type": "markdown",
   "metadata": {},
   "source": [
    "#### Indice."
   ]
  },
  {
   "cell_type": "markdown",
   "metadata": {},
   "source": [
    "1 - Redes neuronales.  \n",
    "1 - ¿Que es Tensorflow?   \n",
    "2 - ¿Que es una red neuronal?.   \n",
    "3 - ¿Como funciona una red neuronal (Modelo Percetron)?"
   ]
  },
  {
   "cell_type": "markdown",
   "metadata": {},
   "source": [
    "### Redes Neuronales\n",
    "\n",
    "Son un modelo computacional que intenta imitar el comportamiento de las neuronas de cerebros biológicos para el reconocimiento de patrones.\n",
    "\n",
    "####  - Paradigmas de aprendizaje\n",
    "\n",
    "Existen 3\n",
    "\n",
    "1 - El aprendizaje supervisado.  \n",
    "2 - Aprendizaje no supervisado.  \n",
    "3 - Aprendizaje por refuerzo.\n",
    "\n",
    "#### Modelo Simple de una neurona (Perecetron).\n",
    "\n",
    "\n",
    "Aqui va la imagen del modelo (percetron)  \n",
    "\n",
    "\n",
    "Donde\n",
    "\n",
    "x1, x2, x3,...pn : Datos de entrada.   \n",
    "w1, w2, w3,...wn : Los pesos de cada entrada.\n",
    "a : La salidad de la neurona\n",
    "f : función de activación (funcion lineal, funcion cuadratica, etc.)\n",
    "\n",
    "Se calcula de la siguiente manera.\n",
    "\n",
    "$\n",
    "a = f (\\sum_{i=0}^{n}w_{í}*x_{i})\n",
    "$\n",
    "\n",
    "\n"
   ]
  },
  {
   "cell_type": "markdown",
   "metadata": {},
   "source": [
    "### ¿Que es TensorFlow?   \n",
    "TensorFlow es una biblioteca de aprendizaje automático de código abierto para investigación y producción. \n"
   ]
  },
  {
   "cell_type": "markdown",
   "metadata": {},
   "source": []
  },
  {
   "cell_type": "code",
   "execution_count": null,
   "metadata": {},
   "outputs": [],
   "source": []
  }
 ],
 "metadata": {
  "kernelspec": {
   "display_name": "Python 3",
   "language": "python",
   "name": "python3"
  },
  "language_info": {
   "codemirror_mode": {
    "name": "ipython",
    "version": 3
   },
   "file_extension": ".py",
   "mimetype": "text/x-python",
   "name": "python",
   "nbconvert_exporter": "python",
   "pygments_lexer": "ipython3",
   "version": "3.7.1"
  }
 },
 "nbformat": 4,
 "nbformat_minor": 2
}
